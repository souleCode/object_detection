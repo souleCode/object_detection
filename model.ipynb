{
  "cells": [
    {
      "cell_type": "code",
      "execution_count": null,
      "metadata": {
        "colab": {
          "base_uri": "https://localhost:8080/"
        },
        "id": "fahfKC0IJyfr",
        "outputId": "bd88f9c0-4253-4559-b501-f6bbe6452722"
      },
      "outputs": [
        {
          "name": "stdout",
          "output_type": "stream",
          "text": [
            "Mounted at /content/gdrive\n"
          ]
        }
      ],
      "source": [
        "from google.colab import drive\n",
        "drive.mount('/content/gdrive')"
      ]
    },
    {
      "cell_type": "code",
      "execution_count": null,
      "metadata": {
        "id": "kA4j7iqOKDGB"
      },
      "outputs": [],
      "source": [
        "import os\n",
        "import time\n",
        "import cv2\n",
        "import pandas as pd\n",
        "import numpy as np\n",
        "from PIL import Image\n",
        "import matplotlib.pyplot as plt\n",
        "from sklearn.model_selection import train_test_split\n",
        "from sklearn.metrics import confusion_matrix,classification_report,f1_score\n",
        "import tensorflow as tf\n",
        "from tensorflow import keras\n",
        "from tensorflow.keras.models import Model\n",
        "from tensorflow.keras.metrics import categorical_crossentropy\n",
        "from tensorflow.keras.preprocessing.image import ImageDataGenerator\n",
        "from tensorflow.keras.layers import Flatten,Dense,Activation,GlobalAveragePooling2D\n",
        "\n",
        "import warnings\n",
        "warnings.filterwarnings(\"ignore\")\n"
      ]
    },
    {
      "cell_type": "code",
      "execution_count": null,
      "metadata": {
        "id": "2cGE-ZMo7q-N"
      },
      "outputs": [],
      "source": []
    },
    {
      "cell_type": "code",
      "execution_count": null,
      "metadata": {
        "id": "2fiW6RrRJn9s"
      },
      "outputs": [],
      "source": [
        "class EyeDiseaseDataset:\n",
        "   def __init__(self, dataDir):\n",
        "        self.data_dir = dataDir\n",
        "\n",
        "   def dataPaths(self):\n",
        "        filepaths = []\n",
        "        labels = []\n",
        "        folds = os.listdir(self.data_dir)\n",
        "        for fold in folds:\n",
        "            foldPath = os.path.join(self.data_dir, fold)\n",
        "            filelist = os.listdir(foldPath)\n",
        "            for file in filelist:\n",
        "                fpath = os.path.join(foldPath, file)\n",
        "                filepaths.append(fpath)\n",
        "                labels.append(fold)\n",
        "        return filepaths, labels\n",
        "\n",
        "   def dataFrame(self, files, labels):\n",
        "        Fseries = pd.Series(files, name='filepaths')\n",
        "        Lseries = pd.Series(labels, name='labels')\n",
        "        return pd.concat([Fseries, Lseries], axis=1)\n",
        "\n",
        "   def split_(self):\n",
        "        files, labels = self.dataPaths()\n",
        "        df = self.dataFrame(files, labels)\n",
        "        strat = df['labels']\n",
        "        trainData, dummyData = train_test_split(df, train_size=0.8, shuffle=True, random_state=42, stratify=strat)\n",
        "        strat = dummyData['labels']\n",
        "        validData, testData = train_test_split(dummyData, train_size=0.5, shuffle=True, random_state=42, stratify=strat)\n",
        "        return trainData, validData, testData"
      ]
    },
    {
      "cell_type": "code",
      "execution_count": null,
      "metadata": {
        "id": "VUpb_5E9HoKm"
      },
      "outputs": [],
      "source": []
    },
    {
      "cell_type": "code",
      "execution_count": null,
      "metadata": {
        "id": "L-LJlYcfEA-1"
      },
      "outputs": [],
      "source": [
        "dataDir='/content/gdrive/MyDrive/ObjectDetection/EyesDeaseses/dataset'\n",
        "\n"
      ]
    },
    {
      "cell_type": "code",
      "execution_count": null,
      "metadata": {
        "id": "DIbVm3rAGQZN"
      },
      "outputs": [],
      "source": [
        "dataSplit = EyeDiseaseDataset(dataDir)\n",
        "train_data, valid_data, test_data = dataSplit.split_()\n",
        "# !ls '/content/gdrive/MyDrive/ObjectDetection/EyesDeaseses/dataset/cataract'\n",
        "\n"
      ]
    },
    {
      "cell_type": "markdown",
      "metadata": {
        "id": "nx83mgbPG1io"
      },
      "source": [
        "# Function for data Augmentation"
      ]
    },
    {
      "cell_type": "code",
      "execution_count": null,
      "metadata": {
        "id": "KQgOPA1XG0Nn"
      },
      "outputs": [],
      "source": [
        "def augment_data(train_df,valid_df,test_df):\n",
        "  img_size =(256,256)\n",
        "  channels =3\n",
        "  color ='rgb'\n",
        "\n",
        "  train_datagen =tf.keras.preprocessing.image.ImageDataGenerator(\n",
        "                rotation_range=30,\n",
        "                horizontal_flip =True,\n",
        "                vertical_flip =True,\n",
        "                brightness_range=[0.5, 1.5])\n",
        "\n",
        "  valid_test_datagen =tf.keras.preprocessing.image.ImageDataGenerator()\n",
        "\n",
        "  train_generator= train_datagen.flow_from_dataframe(\n",
        "           train_df,\n",
        "           x_col ='filepaths',\n",
        "           y_col ='labels',\n",
        "           target_size =img_size,\n",
        "           color_mode= color,\n",
        "           batch_size =channels,\n",
        "           shuffle =True,\n",
        "           class_mode ='categorical'\n",
        "       )\n",
        "  print(\"Shape of augmented training images:\",train_generator.image_shape)\n",
        "\n",
        "  valid_generator =valid_test_datagen.flow_from_dataframe(\n",
        "           valid_df,\n",
        "           x_col ='filepaths',\n",
        "           y_col ='labels',\n",
        "           target_size =img_size,\n",
        "           color_mode= color,\n",
        "           batch_size =channels,\n",
        "           shuffle =False,\n",
        "           class_mode ='categorical'\n",
        "  )\n",
        "  print(\"Shape of augmented valid images:\",valid_generator.image_shape)\n",
        "\n",
        "  test_generator =valid_test_datagen.flow_from_dataframe(\n",
        "           test_df,\n",
        "           x_col ='filepaths',\n",
        "           y_col ='labels',\n",
        "           target_size =img_size,\n",
        "           color_mode= color,\n",
        "           batch_size =channels,\n",
        "           shuffle =False,\n",
        "           class_mode ='categorical'\n",
        "  )\n",
        "  print(\"Shape of augmented test images:\",test_generator.image_shape)\n",
        "\n",
        "  return train_generator,test_generator,valid_generator\n"
      ]
    },
    {
      "cell_type": "code",
      "execution_count": null,
      "metadata": {
        "colab": {
          "base_uri": "https://localhost:8080/"
        },
        "id": "9vm7TOuDGR_E",
        "outputId": "e1988054-cfbe-4a0d-ed38-6f6bdc08aa12"
      },
      "outputs": [
        {
          "name": "stdout",
          "output_type": "stream",
          "text": [
            "Found 3373 validated image filenames belonging to 4 classes.\n",
            "Shape of augmented training images: (256, 256, 3)\n",
            "Found 422 validated image filenames belonging to 4 classes.\n",
            "Shape of augmented valid images: (256, 256, 3)\n",
            "Found 422 validated image filenames belonging to 4 classes.\n",
            "Shape of augmented test images: (256, 256, 3)\n"
          ]
        }
      ],
      "source": [
        "train_generator,test_generator,valid_generator =augment_data(train_data,test_data,valid_data)"
      ]
    },
    {
      "cell_type": "markdown",
      "metadata": {
        "id": "vCPuACmuPp-t"
      },
      "source": [
        "# Download and compile the model"
      ]
    },
    {
      "cell_type": "code",
      "execution_count": null,
      "metadata": {
        "id": "yJpvizE0PwCQ"
      },
      "outputs": [],
      "source": [
        "from tensorflow.keras.applications import EfficientNetB3"
      ]
    },
    {
      "cell_type": "code",
      "execution_count": null,
      "metadata": {
        "id": "n3xJw4hHFIpo"
      },
      "outputs": [],
      "source": [
        "classes = len(list(train_generator.class_indices.keys()))\n",
        "base_model =EfficientNetB3(\n",
        "            weights ='imagenet',\n",
        "            include_top =False,\n",
        "            input_shape =(256,256,3)\n",
        ")\n",
        "\n",
        "for layer in base_model.layers:\n",
        "  layer.trainable=False\n",
        "\n",
        "x= base_model.output\n",
        "x=GlobalAveragePooling2D()(x)\n",
        "x =Dense(256,activation='relu')(x)\n",
        "\n",
        "predictions= Dense(classes,activation='softmax')(x)\n",
        "model =Model(inputs=base_model.input,outputs=predictions)\n",
        "optimizer =tf.keras.optimizers.Adam(learning_rate=0.001)\n",
        "model.compile(optimizer,loss='categorical_crossentropy',metrics=['accuracy'])\n"
      ]
    },
    {
      "cell_type": "code",
      "execution_count": null,
      "metadata": {
        "id": "HnI3w0fFKt9C"
      },
      "outputs": [],
      "source": []
    },
    {
      "cell_type": "markdown",
      "metadata": {
        "id": "FKlziqvTIIPc"
      },
      "source": [
        "# Fit the model"
      ]
    },
    {
      "cell_type": "code",
      "execution_count": null,
      "metadata": {
        "colab": {
          "background_save": true,
          "base_uri": "https://localhost:8080/"
        },
        "id": "mZhJLgUAFH9B",
        "outputId": "0fbfd82d-a87b-4226-9346-2c39746b053e"
      },
      "outputs": [
        {
          "name": "stdout",
          "output_type": "stream",
          "text": [
            "Epoch 1/25\n",
            "1125/1125 [==============================] - 871s 762ms/step - loss: 0.6301 - accuracy: 0.7504 - val_loss: 0.5135 - val_accuracy: 0.7915\n",
            "Epoch 2/25\n",
            "1125/1125 [==============================] - 902s 802ms/step - loss: 0.4614 - accuracy: 0.8168 - val_loss: 0.7004 - val_accuracy: 0.7393\n",
            "Epoch 3/25\n",
            "1125/1125 [==============================] - 759s 675ms/step - loss: 0.3966 - accuracy: 0.8423 - val_loss: 0.5445 - val_accuracy: 0.8033\n",
            "Epoch 4/25\n",
            "1125/1125 [==============================] - 755s 670ms/step - loss: 0.3948 - accuracy: 0.8429 - val_loss: 0.3857 - val_accuracy: 0.8578\n",
            "Epoch 5/25\n",
            "1125/1125 [==============================] - 742s 660ms/step - loss: 0.3689 - accuracy: 0.8535 - val_loss: 0.3717 - val_accuracy: 0.8460\n",
            "Epoch 6/25\n",
            "1125/1125 [==============================] - 746s 663ms/step - loss: 0.3286 - accuracy: 0.8684 - val_loss: 0.3084 - val_accuracy: 0.8815\n",
            "Epoch 7/25\n",
            "1125/1125 [==============================] - 753s 669ms/step - loss: 0.3160 - accuracy: 0.8725 - val_loss: 0.4276 - val_accuracy: 0.8341\n",
            "Epoch 8/25\n",
            "1125/1125 [==============================] - 740s 657ms/step - loss: 0.2972 - accuracy: 0.8850 - val_loss: 0.3960 - val_accuracy: 0.8673\n",
            "Epoch 9/25\n",
            "1125/1125 [==============================] - 742s 660ms/step - loss: 0.3031 - accuracy: 0.8814 - val_loss: 0.3801 - val_accuracy: 0.8626\n",
            "Epoch 10/25\n",
            "1125/1125 [==============================] - 741s 659ms/step - loss: 0.2794 - accuracy: 0.8903 - val_loss: 0.3859 - val_accuracy: 0.8791\n",
            "Epoch 11/25\n",
            "1125/1125 [==============================] - 737s 655ms/step - loss: 0.2781 - accuracy: 0.8859 - val_loss: 0.3781 - val_accuracy: 0.8365\n",
            "Epoch 12/25\n",
            "1125/1125 [==============================] - 733s 652ms/step - loss: 0.2692 - accuracy: 0.8948 - val_loss: 0.3184 - val_accuracy: 0.8839\n",
            "Epoch 13/25\n",
            "1125/1125 [==============================] - 737s 655ms/step - loss: 0.2558 - accuracy: 0.9013 - val_loss: 0.2641 - val_accuracy: 0.8910\n",
            "Epoch 14/25\n",
            "1125/1125 [==============================] - 742s 659ms/step - loss: 0.2543 - accuracy: 0.9004 - val_loss: 0.2771 - val_accuracy: 0.8981\n",
            "Epoch 15/25\n",
            "1125/1125 [==============================] - 758s 674ms/step - loss: 0.2420 - accuracy: 0.9066 - val_loss: 0.3256 - val_accuracy: 0.8768\n",
            "Epoch 16/25\n",
            "1125/1125 [==============================] - 769s 684ms/step - loss: 0.2456 - accuracy: 0.9007 - val_loss: 0.2158 - val_accuracy: 0.9100\n",
            "Epoch 17/25\n",
            "1125/1125 [==============================] - 765s 680ms/step - loss: 0.2305 - accuracy: 0.9078 - val_loss: 0.3104 - val_accuracy: 0.8673\n",
            "Epoch 18/25\n",
            "1125/1125 [==============================] - 738s 656ms/step - loss: 0.2245 - accuracy: 0.9155 - val_loss: 0.2583 - val_accuracy: 0.8934\n",
            "Epoch 19/25\n",
            "1125/1125 [==============================] - 767s 681ms/step - loss: 0.2143 - accuracy: 0.9179 - val_loss: 0.2689 - val_accuracy: 0.8910\n",
            "Epoch 20/25\n",
            "1125/1125 [==============================] - 756s 672ms/step - loss: 0.2082 - accuracy: 0.9194 - val_loss: 0.3121 - val_accuracy: 0.8957\n",
            "Epoch 21/25\n",
            "1125/1125 [==============================] - ETA: 0s - loss: 0.1996 - accuracy: 0.9238"
          ]
        }
      ],
      "source": [
        "history= model.fit(\n",
        "    train_generator,\n",
        "    epochs =25,\n",
        "    validation_data =valid_generator\n",
        ")"
      ]
    },
    {
      "cell_type": "markdown",
      "metadata": {
        "id": "nYR48YIRId-K"
      },
      "source": [
        "# Plot the accuracy and loss"
      ]
    },
    {
      "cell_type": "code",
      "execution_count": null,
      "metadata": {
        "colab": {
          "base_uri": "https://localhost:8080/",
          "height": 211
        },
        "id": "gPjNSi5gIdoc",
        "outputId": "cccb29f5-a44f-4fae-a093-239eec798ad7"
      },
      "outputs": [
        {
          "ename": "NameError",
          "evalue": "name 'history' is not defined",
          "output_type": "error",
          "traceback": [
            "\u001b[0;31m---------------------------------------------------------------------------\u001b[0m",
            "\u001b[0;31mNameError\u001b[0m                                 Traceback (most recent call last)",
            "\u001b[0;32m<ipython-input-13-fed465610038>\u001b[0m in \u001b[0;36m<cell line: 1>\u001b[0;34m()\u001b[0m\n\u001b[0;32m----> 1\u001b[0;31m \u001b[0mtrain_accuracy\u001b[0m \u001b[0;34m=\u001b[0m \u001b[0mhistory\u001b[0m\u001b[0;34m.\u001b[0m\u001b[0mhistory\u001b[0m\u001b[0;34m[\u001b[0m\u001b[0;34m'accuracy'\u001b[0m\u001b[0;34m]\u001b[0m\u001b[0;34m\u001b[0m\u001b[0;34m\u001b[0m\u001b[0m\n\u001b[0m\u001b[1;32m      2\u001b[0m \u001b[0mval_accuracy\u001b[0m \u001b[0;34m=\u001b[0m \u001b[0mhistory\u001b[0m\u001b[0;34m.\u001b[0m\u001b[0mhistory\u001b[0m\u001b[0;34m[\u001b[0m\u001b[0;34m'val_accuracy'\u001b[0m\u001b[0;34m]\u001b[0m\u001b[0;34m\u001b[0m\u001b[0;34m\u001b[0m\u001b[0m\n\u001b[1;32m      3\u001b[0m \u001b[0mprint\u001b[0m\u001b[0;34m(\u001b[0m\u001b[0;34m\"Training Accuracy:\"\u001b[0m\u001b[0;34m,\u001b[0m \u001b[0mtrain_accuracy\u001b[0m\u001b[0;34m[\u001b[0m\u001b[0;34m-\u001b[0m\u001b[0;36m1\u001b[0m\u001b[0;34m]\u001b[0m\u001b[0;34m)\u001b[0m\u001b[0;34m\u001b[0m\u001b[0;34m\u001b[0m\u001b[0m\n\u001b[1;32m      4\u001b[0m \u001b[0mprint\u001b[0m\u001b[0;34m(\u001b[0m\u001b[0;34m\"Validation Accuracy:\"\u001b[0m\u001b[0;34m,\u001b[0m \u001b[0mval_accuracy\u001b[0m\u001b[0;34m[\u001b[0m\u001b[0;34m-\u001b[0m\u001b[0;36m1\u001b[0m\u001b[0;34m]\u001b[0m\u001b[0;34m)\u001b[0m\u001b[0;34m\u001b[0m\u001b[0;34m\u001b[0m\u001b[0m\n\u001b[1;32m      5\u001b[0m \u001b[0mplt\u001b[0m\u001b[0;34m.\u001b[0m\u001b[0mplot\u001b[0m\u001b[0;34m(\u001b[0m\u001b[0mhistory\u001b[0m\u001b[0;34m.\u001b[0m\u001b[0mhistory\u001b[0m\u001b[0;34m[\u001b[0m\u001b[0;34m'loss'\u001b[0m\u001b[0;34m]\u001b[0m\u001b[0;34m,\u001b[0m \u001b[0mlabel\u001b[0m\u001b[0;34m=\u001b[0m\u001b[0;34m'Training Loss'\u001b[0m\u001b[0;34m)\u001b[0m\u001b[0;34m\u001b[0m\u001b[0;34m\u001b[0m\u001b[0m\n",
            "\u001b[0;31mNameError\u001b[0m: name 'history' is not defined"
          ]
        }
      ],
      "source": [
        "train_accuracy = history.history['accuracy']\n",
        "val_accuracy = history.history['val_accuracy']\n",
        "print(\"Training Accuracy:\", train_accuracy[-1])\n",
        "print(\"Validation Accuracy:\", val_accuracy[-1])\n",
        "plt.plot(history.history['loss'], label='Training Loss')\n",
        "plt.plot(history.history['val_loss'], label='Validation Loss')\n",
        "plt.xlabel('Epoch')\n",
        "plt.ylabel('Loss')\n",
        "plt.legend()\n",
        "plt.show()\n",
        "plt.plot(history.history['accuracy'], label='Training Accuracy')\n",
        "plt.plot(history.history['val_accuracy'], label='Validation Accuracy')\n",
        "plt.xlabel('Epoch')\n",
        "plt.ylabel('Accuracy')\n",
        "plt.legend()\n",
        "plt.show()\n"
      ]
    },
    {
      "cell_type": "markdown",
      "metadata": {
        "id": "dvNtIq2Umrpv"
      },
      "source": [
        "# Affichage des images réelles et celles predites"
      ]
    },
    {
      "cell_type": "code",
      "execution_count": null,
      "metadata": {
        "id": "haQ66ifZkmmg"
      },
      "outputs": [],
      "source": [
        "def plot_actuel_vs_predicted(model,test_data,num_samples=3):\n",
        "  test_images,test_labels =next(iter(test_data))\n",
        "  predictions =model.predict(test_images)\n",
        "  class_labels =list(train_generator.class_indices.keys())\n",
        "  sample_indices =np.random.choice(range(len(test_images)),num_samples,replace =False)\n",
        "  for i in sample_indices:\n",
        "    actual_label =class_labels[np.argmax(test_labels)]\n",
        "    predicted_label= class_labels[np.argmax(predictions[i])]\n",
        "    plt.figure(figsize=(8,4))\n",
        "\n",
        "    plt.subplot(1,2,1)\n",
        "    plt.imshow(test_images[i].astype(np.uint8))\n",
        "    plt.title(f'Réelle:{actual_label}')\n",
        "    plt.axis('off')\n",
        "\n",
        "    plt.subplot(1,2,2)\n",
        "    plt.imshow(test_images[i].astype(np.uint8))\n",
        "    plt.title(f'Predite:{predicted_label}')\n",
        "    plt.axis('off')\n",
        "\n",
        "    plt.show()\n",
        "\n"
      ]
    }
  ],
  "metadata": {
    "accelerator": "GPU",
    "colab": {
      "gpuType": "T4",
      "provenance": []
    },
    "kernelspec": {
      "display_name": "Python 3",
      "name": "python3"
    },
    "language_info": {
      "name": "python"
    }
  },
  "nbformat": 4,
  "nbformat_minor": 0
}